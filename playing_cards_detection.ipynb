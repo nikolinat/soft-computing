{
 "cells": [
  {
   "cell_type": "code",
   "execution_count": 1,
   "id": "f9f8fefb",
   "metadata": {},
   "outputs": [],
   "source": [
    "import numpy as np\n",
    "import cv2 # OpenCV\n",
    "import matplotlib\n",
    "import matplotlib.pyplot as plt\n",
    "import collections\n",
    "import imgaug.augmenters as iaa\n",
    "from scipy import ndimage \n",
    "import glob"
   ]
  },
  {
   "cell_type": "code",
   "execution_count": 16,
   "id": "031277ec",
   "metadata": {},
   "outputs": [],
   "source": [
    "def do_augmentation():\n",
    "    images = []\n",
    "    images_path = glob.glob(\"transform/*.jpg\")\n",
    "    for img_path in images_path:\n",
    "        img = cv2.imread(img_path)\n",
    "        images.append(img)\n",
    "        augmentation = iaa.Sequential([\n",
    "            iaa.LinearContrast((0.85, 1.2)),\n",
    "            iaa.AdditiveGaussianNoise(loc=0, scale=(0.0, 0.05255), per_channel=0.5),\n",
    "            iaa.Multiply((0.8, 1.1), per_channel=0.2),\n",
    "            iaa.Affine(\n",
    "                scale={\"x\": (0.9, 1.1), \"y\": (0.9, 1.1)},\n",
    "                translate_percent={\"x\": (-0.1, 0.1), \"y\": (-0.1, 0.1)},\n",
    "                rotate=(-5, 5),\n",
    "                shear=(-2, 2))\n",
    "        ])\n",
    "        \n",
    "    augmented_images = augmentation(images=images)\n",
    "    counter = 1\n",
    "    for img in augmented_images:\n",
    "        counter = counter + 1 \n",
    "        cv2.imwrite('changed/IMG_' + str(counter) + '.jpg', img)"
   ]
  },
  {
   "cell_type": "code",
   "execution_count": 17,
   "id": "fcf14c39",
   "metadata": {},
   "outputs": [],
   "source": [
    "do_augmentation()\n"
   ]
  },
  {
   "cell_type": "code",
   "execution_count": null,
   "id": "d3e483ea",
   "metadata": {},
   "outputs": [],
   "source": []
  },
  {
   "cell_type": "code",
   "execution_count": null,
   "id": "d29b9940",
   "metadata": {},
   "outputs": [],
   "source": []
  }
 ],
 "metadata": {
  "kernelspec": {
   "display_name": "Python 3 (ipykernel)",
   "language": "python",
   "name": "python3"
  },
  "language_info": {
   "codemirror_mode": {
    "name": "ipython",
    "version": 3
   },
   "file_extension": ".py",
   "mimetype": "text/x-python",
   "name": "python",
   "nbconvert_exporter": "python",
   "pygments_lexer": "ipython3",
   "version": "3.9.6"
  }
 },
 "nbformat": 4,
 "nbformat_minor": 5
}
